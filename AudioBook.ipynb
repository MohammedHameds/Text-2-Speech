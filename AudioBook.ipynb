{
 "cells": [
  {
   "cell_type": "code",
   "execution_count": 11,
   "metadata": {},
   "outputs": [],
   "source": [
    "#pip install pyPDF2"
   ]
  },
  {
   "cell_type": "code",
   "execution_count": 12,
   "metadata": {},
   "outputs": [],
   "source": [
    "# pip install pyttsx3"
   ]
  },
  {
   "cell_type": "code",
   "execution_count": 13,
   "metadata": {},
   "outputs": [],
   "source": [
    "import PyPDF2\n",
    "import pyttsx3"
   ]
  },
  {
   "cell_type": "code",
   "execution_count": 14,
   "metadata": {},
   "outputs": [],
   "source": [
    "file = open('Gullivers Travels.pdf','rb')"
   ]
  },
  {
   "cell_type": "code",
   "execution_count": 15,
   "metadata": {},
   "outputs": [
    {
     "name": "stderr",
     "output_type": "stream",
     "text": [
      "Xref table not zero-indexed. ID numbers for objects will be corrected.\n"
     ]
    }
   ],
   "source": [
    "pdf_reader = PyPDF2.PdfFileReader(file)"
   ]
  },
  {
   "cell_type": "code",
   "execution_count": 16,
   "metadata": {},
   "outputs": [
    {
     "data": {
      "text/plain": [
       "383"
      ]
     },
     "execution_count": 16,
     "metadata": {},
     "output_type": "execute_result"
    }
   ],
   "source": [
    "pdf_reader.numPages"
   ]
  },
  {
   "cell_type": "code",
   "execution_count": 17,
   "metadata": {},
   "outputs": [
    {
     "data": {
      "text/plain": [
       "'Gulliver’s Travels \\x18THE PUBLISHER TO \\nTHE READER.\\nAs given in the original edition.\\nThe author of these Travels, Mr. Lemuel Gulliver, is my an -\\ncient and intimate friend; there is likewise some relation \\nbetween us on the mother’s side. About three years ago, Mr. \\nGulliver growing weary of the concourse of curious people \\ncoming to him at his house in Redriff, made a small pur -\\nchase of land, with a convenient house, near Newark, in \\nNottinghamshire, his native country; where he now lives \\nretired, yet in good esteem among his neighbours.\\nAlthough Mr. Gulliver was born in Nottinghamshire, \\nwhere his father dwelt, yet I have heard him say his family \\ncame from Oxfordshire; to confirm which, I have observed \\nin the churchyard at Banbury in that county, several tombs \\nand monuments of the Gullivers.\\nBefore he quitted Redriff, he left the custody of the fol -\\nlowing papers in my hands, with the liberty to dispose of \\nthem as I should think fit. I have carefully perused them \\nthree times. The style is very plain and simple; and the only \\nfault I find is, that the author, after the manner of travel -\\nlers, is a little too circumstantial. There is an air of truth '"
      ]
     },
     "execution_count": 17,
     "metadata": {},
     "output_type": "execute_result"
    }
   ],
   "source": [
    "pdf_reader.getPage(1).extract_text()"
   ]
  },
  {
   "cell_type": "code",
   "execution_count": 22,
   "metadata": {},
   "outputs": [],
   "source": [
    "def convert_Text2Speech(file) :\n",
    "    pdf_reader = PyPDF2.PdfFileReader(file)\n",
    "    speaker = pyttsx3.init()\n",
    "    speaker.setProperty('rate', 150)\n",
    "    for page in   range (pdf_reader.numPages) :\n",
    "        text = pdf_reader.getPage(page).extract_text()\n",
    "        print('-'*10 , 'Page', page ,'-'*10 )\n",
    "        print(text)\n",
    "        speaker.say(text)\n",
    "        speaker.runAndWait()\n",
    "    speaker.stop()"
   ]
  },
  {
   "cell_type": "code",
   "execution_count": 23,
   "metadata": {},
   "outputs": [
    {
     "name": "stderr",
     "output_type": "stream",
     "text": [
      "Xref table not zero-indexed. ID numbers for objects will be corrected.\n"
     ]
    },
    {
     "name": "stdout",
     "output_type": "stream",
     "text": [
      "---------- Page 0 ----------\n",
      "Download free eBooks of classic literature, books and \n",
      "novels at Planet eBook. Subscribe to our free eBooks blog \n",
      "and email newsletter.Gulliver’s Tra vels\n",
      "By Jonathan Swift\n",
      "\n",
      "---------- Page 1 ----------\n",
      "Gulliver’s Travels \u0018THE PUBLISHER TO \n",
      "THE READER.\n",
      "As given in the original edition.\n",
      "The author of these Travels, Mr. Lemuel Gulliver, is my an -\n",
      "cient and intimate friend; there is likewise some relation \n",
      "between us on the mother’s side. About three years ago, Mr. \n",
      "Gulliver growing weary of the concourse of curious people \n",
      "coming to him at his house in Redriff, made a small pur -\n",
      "chase of land, with a convenient house, near Newark, in \n",
      "Nottinghamshire, his native country; where he now lives \n",
      "retired, yet in good esteem among his neighbours.\n",
      "Although Mr. Gulliver was born in Nottinghamshire, \n",
      "where his father dwelt, yet I have heard him say his family \n",
      "came from Oxfordshire; to confirm which, I have observed \n",
      "in the churchyard at Banbury in that county, several tombs \n",
      "and monuments of the Gullivers.\n",
      "Before he quitted Redriff, he left the custody of the fol -\n",
      "lowing papers in my hands, with the liberty to dispose of \n",
      "them as I should think fit. I have carefully perused them \n",
      "three times. The style is very plain and simple; and the only \n",
      "fault I find is, that the author, after the manner of travel -\n",
      "lers, is a little too circumstantial. There is an air of truth \n"
     ]
    }
   ],
   "source": [
    "convert_Text2Speech(file)"
   ]
  }
 ],
 "metadata": {
  "kernelspec": {
   "display_name": "Python 3.8.8 ('base')",
   "language": "python",
   "name": "python3"
  },
  "language_info": {
   "codemirror_mode": {
    "name": "ipython",
    "version": 3
   },
   "file_extension": ".py",
   "mimetype": "text/x-python",
   "name": "python",
   "nbconvert_exporter": "python",
   "pygments_lexer": "ipython3",
   "version": "3.8.8"
  },
  "orig_nbformat": 4,
  "vscode": {
   "interpreter": {
    "hash": "53d50ed1839d2292cfd39f0644d59e889da85062f836d8db82f8d3a293c0c3a5"
   }
  }
 },
 "nbformat": 4,
 "nbformat_minor": 2
}
